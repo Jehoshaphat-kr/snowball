{
 "cells": [
  {
   "cell_type": "code",
   "execution_count": 1,
   "id": "08e6db5d",
   "metadata": {
    "ExecuteTime": {
     "end_time": "2023-02-22T13:11:56.505531Z",
     "start_time": "2023-02-22T13:11:56.489575Z"
    }
   },
   "outputs": [
    {
     "name": "stdout",
     "output_type": "stream",
     "text": [
      "D:\\J.H.LEE\\05. CODING\\Python\\Project\\snowball\n"
     ]
    }
   ],
   "source": [
    "cd .."
   ]
  },
  {
   "cell_type": "code",
   "execution_count": 2,
   "id": "57c6c71c",
   "metadata": {
    "ExecuteTime": {
     "end_time": "2023-02-22T13:12:07.823851Z",
     "start_time": "2023-02-22T13:11:57.380864Z"
    }
   },
   "outputs": [
    {
     "data": {
      "text/html": [
       "<style>.container { width:80% !important;}</style>"
      ],
      "text/plain": [
       "<IPython.core.display.HTML object>"
      ]
     },
     "metadata": {},
     "output_type": "display_data"
    }
   ],
   "source": [
    "from IPython.display import display, HTML\n",
    "display(HTML(\"<style>.container { width:80% !important;}</style>\"))\n",
    "\n",
    "from plotly.subplots import make_subplots\n",
    "import plotly.graph_objects as go\n",
    "import plotly.offline as of\n",
    "import pandas as pd\n",
    "import snowball as sb"
   ]
  },
  {
   "cell_type": "markdown",
   "id": "fe881861",
   "metadata": {},
   "source": [
    "# Settings"
   ]
  },
  {
   "cell_type": "code",
   "execution_count": 3,
   "id": "76ba4297",
   "metadata": {
    "ExecuteTime": {
     "end_time": "2023-02-22T13:12:13.011550Z",
     "start_time": "2023-02-22T13:12:08.666571Z"
    }
   },
   "outputs": [
    {
     "name": "stdout",
     "output_type": "stream",
     "text": [
      "INTEKPLUS Co., Ltd.(064290) Loaded\n"
     ]
    }
   ],
   "source": [
    "ticker = '064290'\n",
    "\n",
    "stock = sb.KrseStock(ticker=ticker)\n",
    "print(f\"{stock.name}({stock.ticker}) Loaded\")"
   ]
  },
  {
   "cell_type": "markdown",
   "id": "817028c9",
   "metadata": {},
   "source": [
    "# Fundamentals"
   ]
  },
  {
   "cell_type": "markdown",
   "id": "a621c7c0",
   "metadata": {},
   "source": [
    "## Summary"
   ]
  },
  {
   "cell_type": "code",
   "execution_count": 4,
   "id": "a180da8e",
   "metadata": {
    "ExecuteTime": {
     "end_time": "2023-02-22T13:12:21.061336Z",
     "start_time": "2023-02-22T13:12:20.681353Z"
    }
   },
   "outputs": [
    {
     "name": "stdout",
     "output_type": "stream",
     "text": [
      "동사는 제어계측기기 및 컴퓨터 응용기기 제조 및 서비스를 목적으로 1995년 10월 13일 설립됨.\n",
      "동사는 머신비전기술을 통해 표면 형상에 대한 영상 데이터를 획득, 분석 및 처리하는 3D/2D 자동외관검사장비 및 모듈을 개발하여 판매하고 있음.\n",
      "동사는 타 업체와 비교해 차별화된 3차원 측정 기술력으로 다양한 검사 분야에서 최적화된 검사솔루션을 제공하고 있음.\n",
      "\n",
      "\n",
      "2022년 9월 전년동기 대비 연결기준 매출액은 4.5% 증가, 영업이익은 29.5% 감소, 당기순이익은 18% 감소.\n",
      "최근 반도체 후공정 검사장비 분야는 동사와 같은 시장의 니즈에 적합한 고도의 기술력을 확보한 외관검사장비 공급사에게 새로운 기회를 주고 있음.\n",
      "동사는 전방산업의 변동성에 대한 위험을 줄이고자 사업영역을 다각화하고 거래선을 다변화 하기 위해 해외진출 노력을 지속하여 왔음.\n"
     ]
    }
   ],
   "source": [
    "print(stock.summary)"
   ]
  },
  {
   "cell_type": "markdown",
   "id": "8dabae8e",
   "metadata": {},
   "source": [
    "## Asset"
   ]
  },
  {
   "cell_type": "code",
   "execution_count": null,
   "id": "b7418303",
   "metadata": {
    "ExecuteTime": {
     "end_time": "2023-02-22T13:15:17.693064Z",
     "start_time": "2023-02-22T13:15:17.194615Z"
    }
   },
   "outputs": [],
   "source": [
    "stock.ASSET"
   ]
  },
  {
   "cell_type": "markdown",
   "id": "7aaed292",
   "metadata": {},
   "source": [
    "## Profit"
   ]
  },
  {
   "cell_type": "code",
   "execution_count": null,
   "id": "e0fa8319",
   "metadata": {
    "ExecuteTime": {
     "end_time": "2023-02-22T13:17:57.312949Z",
     "start_time": "2023-02-22T13:17:57.227150Z"
    }
   },
   "outputs": [],
   "source": [
    "stock.PROFIT"
   ]
  },
  {
   "cell_type": "markdown",
   "id": "ccd6a9ef",
   "metadata": {},
   "source": [
    "## Market-Cap"
   ]
  },
  {
   "cell_type": "code",
   "execution_count": null,
   "id": "4e276c38",
   "metadata": {},
   "outputs": [],
   "source": [
    "stock.MARKETCAP"
   ]
  },
  {
   "cell_type": "markdown",
   "id": "0368726f",
   "metadata": {},
   "source": [
    "## Products"
   ]
  },
  {
   "cell_type": "code",
   "execution_count": null,
   "id": "97ecffbd",
   "metadata": {
    "ExecuteTime": {
     "end_time": "2023-02-22T13:13:27.484371Z",
     "start_time": "2023-02-22T13:13:26.428417Z"
    }
   },
   "outputs": [],
   "source": [
    "stock.PRODUCTS_ALL_BAR"
   ]
  },
  {
   "cell_type": "markdown",
   "id": "8490c3c6",
   "metadata": {},
   "source": [
    "## Expenses"
   ]
  },
  {
   "cell_type": "code",
   "execution_count": null,
   "id": "ee04da13",
   "metadata": {},
   "outputs": [],
   "source": [
    "stock.EXPENSE"
   ]
  },
  {
   "cell_type": "markdown",
   "id": "90cf0bab",
   "metadata": {},
   "source": [
    "## Supply"
   ]
  },
  {
   "cell_type": "code",
   "execution_count": null,
   "id": "56b201e4",
   "metadata": {},
   "outputs": [],
   "source": [
    "stock.SUPPLY"
   ]
  }
 ],
 "metadata": {
  "kernelspec": {
   "display_name": "Python 3 (ipykernel)",
   "language": "python",
   "name": "python3"
  },
  "language_info": {
   "codemirror_mode": {
    "name": "ipython",
    "version": 3
   },
   "file_extension": ".py",
   "mimetype": "text/x-python",
   "name": "python",
   "nbconvert_exporter": "python",
   "pygments_lexer": "ipython3",
   "version": "3.8.6"
  },
  "toc": {
   "base_numbering": 1,
   "nav_menu": {},
   "number_sections": true,
   "sideBar": true,
   "skip_h1_title": false,
   "title_cell": "Table of Contents",
   "title_sidebar": "Contents",
   "toc_cell": false,
   "toc_position": {
    "height": "calc(100% - 180px)",
    "left": "10px",
    "top": "150px",
    "width": "328px"
   },
   "toc_section_display": true,
   "toc_window_display": true
  }
 },
 "nbformat": 4,
 "nbformat_minor": 5
}
