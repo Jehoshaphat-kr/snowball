{
 "cells": [
  {
   "cell_type": "code",
   "execution_count": 1,
   "id": "08e6db5d",
   "metadata": {},
   "outputs": [
    {
     "name": "stdout",
     "output_type": "stream",
     "text": [
      "D:\\J.H.LEE\\05. CODING\\Python\\Project\\snowball\n"
     ]
    }
   ],
   "source": [
    "cd .."
   ]
  },
  {
   "cell_type": "code",
   "execution_count": 2,
   "id": "57c6c71c",
   "metadata": {},
   "outputs": [
    {
     "name": "stdout",
     "output_type": "stream",
     "text": [
      "Init Count: symbols\n"
     ]
    }
   ],
   "source": [
    "import snowball as sb"
   ]
  },
  {
   "cell_type": "markdown",
   "id": "fe881861",
   "metadata": {},
   "source": [
    "# Settings"
   ]
  },
  {
   "cell_type": "code",
   "execution_count": 4,
   "id": "76ba4297",
   "metadata": {},
   "outputs": [
    {
     "name": "stdout",
     "output_type": "stream",
     "text": [
      "LEENO Industrial Inc.(058470) Loaded\n"
     ]
    }
   ],
   "source": [
    "ticker = '058470'\n",
    "\n",
    "stock = sb.KrseStock(ticker=ticker)\n",
    "print(f\"{stock.name}({stock.ticker}) Loaded\")"
   ]
  },
  {
   "cell_type": "markdown",
   "id": "817028c9",
   "metadata": {},
   "source": [
    "# Fundamentals"
   ]
  },
  {
   "cell_type": "markdown",
   "id": "a621c7c0",
   "metadata": {},
   "source": [
    "## Summary"
   ]
  },
  {
   "cell_type": "code",
   "execution_count": 17,
   "id": "a180da8e",
   "metadata": {},
   "outputs": [
    {
     "name": "stdout",
     "output_type": "stream",
     "text": [
      "동사는 1978년 11월 리노공업사로 창업 이후 1996년 12월 법인전환을 하였으며, 2001년 코스닥시장에 주식을 상장함.\n",
      "검사용 프로브와 반도체 검사용 소켓을 자체브랜드로 개발하여 제조 및 판매하는 사업과 초음파 진단기 등에 적용되는 의료기기 부품을 제조 및 판매하는사업 등을 영위하고 있음.\n",
      "40년 이상의 업력과 축적된 노하우를 바탕으로 다품종 및 단납기에 대응할 수 있는 생산시스템을 보유하고 있음.\n",
      "\n",
      "\n",
      "2022년 9월 전년동기 대비 별도기준 매출액은 20.8% 증가, 영업이익은 28.1% 증가, 당기순이익은 28.6% 증가.\n",
      "동사는 전공정 시스템을 구축하여 안정적인 품질유지, 원가절감, 리드타임에 경쟁우위를 유지하고 있음.\n",
      "동사가 신사업으로 진행중인 의료기기 부문의 경우 반도체 제조 장비에서 축적된 미세공정노하우 덕분에 초음파진단기 시장에서 차별화된 경쟁우위 요소를 갖고 있음.\n"
     ]
    }
   ],
   "source": [
    "print(stock.summary.replace(' ', '').replace('\\xa0\\xa0', ' ').replace('\\xa0', ' ').replace('\\n ', '\\n'))\n",
    "# stock.summary.replace(' ', '').replace('\\xa0\\xa0', ' ').replace('\\xa0', ' ').replace('\\n ', '\\n')"
   ]
  },
  {
   "cell_type": "markdown",
   "id": "0368726f",
   "metadata": {},
   "source": [
    "## Products"
   ]
  }
 ],
 "metadata": {
  "kernelspec": {
   "display_name": "Python 3 (ipykernel)",
   "language": "python",
   "name": "python3"
  },
  "language_info": {
   "codemirror_mode": {
    "name": "ipython",
    "version": 3
   },
   "file_extension": ".py",
   "mimetype": "text/x-python",
   "name": "python",
   "nbconvert_exporter": "python",
   "pygments_lexer": "ipython3",
   "version": "3.8.6"
  },
  "toc": {
   "base_numbering": 1,
   "nav_menu": {},
   "number_sections": true,
   "sideBar": true,
   "skip_h1_title": false,
   "title_cell": "Table of Contents",
   "title_sidebar": "Contents",
   "toc_cell": false,
   "toc_position": {},
   "toc_section_display": true,
   "toc_window_display": true
  }
 },
 "nbformat": 4,
 "nbformat_minor": 5
}
